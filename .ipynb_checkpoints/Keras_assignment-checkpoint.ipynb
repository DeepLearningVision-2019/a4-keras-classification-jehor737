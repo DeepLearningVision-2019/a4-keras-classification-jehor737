{
 "cells": [
  {
   "cell_type": "markdown",
   "metadata": {},
   "source": [
    "# Classify different data sets"
   ]
  },
  {
   "cell_type": "markdown",
   "metadata": {},
   "source": [
    "### Basic includes"
   ]
  },
  {
   "cell_type": "code",
   "execution_count": 1,
   "metadata": {},
   "outputs": [
    {
     "name": "stderr",
     "output_type": "stream",
     "text": [
      "Using TensorFlow backend.\n"
     ]
    }
   ],
   "source": [
    "# Using pandas to load the csv file\n",
    "import pandas as pd\n",
    "\n",
    "import numpy as np\n",
    "import matplotlib.pyplot as plt\n",
    "\n",
    "from keras import models \n",
    "from keras import layers \n",
    "from keras import callbacks\n",
    "from keras.utils import to_categorical\n",
    "\n",
    "# reuters and fashin mnist data set from keras\n",
    "from keras.datasets import reuters\n",
    "from keras.datasets import fashion_mnist\n",
    "\n",
    "# needed to preprocess text\n",
    "from keras.preprocessing.text import Tokenizer"
   ]
  },
  {
   "cell_type": "markdown",
   "metadata": {},
   "source": [
    "### Classify the Fashion Mnist\n",
    "\n",
    "---"
   ]
  },
  {
   "cell_type": "code",
   "execution_count": 55,
   "metadata": {},
   "outputs": [
    {
     "name": "stdout",
     "output_type": "stream",
     "text": [
      "[9 0 0 ... 3 0 5]\n",
      "(10000, 28, 28)\n"
     ]
    },
    {
     "data": {
      "text/plain": [
       "<matplotlib.image.AxesImage at 0x1a8b7462c88>"
      ]
     },
     "execution_count": 55,
     "metadata": {},
     "output_type": "execute_result"
    },
    {
     "data": {
      "image/png": "[encoded data removed]",
      "text/plain": [
       "<Figure size 432x288 with 1 Axes>"
      ]
     },
     "metadata": {
      "needs_background": "light"
     },
     "output_type": "display_data"
    }
   ],
   "source": [
    "(fashion_train_data, fashion_train_labels), (fashion_test_data, fashion_test_labels) = fashion_mnist.load_data()\n",
    "\n",
    "print(fashion_train_labels)\n",
    "print(fashion_test_data.shape)\n",
    "\n",
    "test_index = 10\n",
    "\n",
    "plt.title(\"Label: \" + str(fashion_train_labels[test_index]))\n",
    "plt.imshow(fashion_train_data[test_index], cmap=\"gray\")"
   ]
  },
  {
   "cell_type": "markdown",
   "metadata": {},
   "source": [
    "#### TO DO: Preprocess the data\n",
    "\n",
    "1. Normalize the input data set\n",
    "2. Perform one hot encoding\n",
    "3. Create a train, test, and validation set"
   ]
  },
  {
   "cell_type": "code",
   "execution_count": 3,
   "metadata": {},
   "outputs": [
    {
     "name": "stdout",
     "output_type": "stream",
     "text": [
      "(60000, 10)\n"
     ]
    }
   ],
   "source": [
    "train_images = fashion_train_data.reshape((60000,28*28))\n",
    "train_images = train_images.astype('float32') / 255\n",
    "train_labels = to_categorical(fashion_train_labels)\n",
    "print(train_labels.shape)\n",
    "test_images = fashion_test_data.reshape((10000,28*28))\n",
    "test_images = test_images.astype('float32') / 255\n",
    "test_labels = to_categorical(fashion_test_labels)"
   ]
  },
  {
   "cell_type": "markdown",
   "metadata": {},
   "source": [
    "#### TO DO: Define and train a network, then plot the accuracy of the training, validation, and testing\n",
    "\n",
    "1. Use a validation set\n",
    "2. Propose and train a network\n",
    "3. Print the history of the training\n",
    "4. Evaluate with a test set"
   ]
  },
  {
   "cell_type": "code",
   "execution_count": 4,
   "metadata": {},
   "outputs": [
    {
     "name": "stdout",
     "output_type": "stream",
     "text": [
      "_________________________________________________________________\n",
      "Layer (type)                 Output Shape              Param #   \n",
      "=================================================================\n",
      "dense_1 (Dense)              (None, 784)               615440    \n",
      "_________________________________________________________________\n",
      "dropout_1 (Dropout)          (None, 784)               0         \n",
      "_________________________________________________________________\n",
      "dense_2 (Dense)              (None, 355)               278675    \n",
      "_________________________________________________________________\n",
      "dropout_2 (Dropout)          (None, 355)               0         \n",
      "_________________________________________________________________\n",
      "dense_3 (Dense)              (None, 240)               85440     \n",
      "_________________________________________________________________\n",
      "dropout_3 (Dropout)          (None, 240)               0         \n",
      "_________________________________________________________________\n",
      "dense_4 (Dense)              (None, 10)                2410      \n",
      "=================================================================\n",
      "Total params: 981,965\n",
      "Trainable params: 981,965\n",
      "Non-trainable params: 0\n",
      "_________________________________________________________________\n"
     ]
    }
   ],
   "source": [
    "num_classes_model1 = 10\n",
    "model = models.Sequential()\n",
    "model.add(layers.Dense(784, activation='relu', input_shape=(28*28,)))\n",
    "# Added dropout between the input and first hidden layer\n",
    "model.add(layers.Dropout(0.3))\n",
    "######\n",
    "model.add(layers.Dense(355, activation='relu'))\n",
    "model.add(layers.Dropout(0.3))\n",
    "model.add(layers.Dense(240, activation='relu'))\n",
    "model.add(layers.Dropout(0.3))\n",
    "model.add(layers.Dense(num_classes_model1, activation='softmax'))\n",
    "model.summary()\n",
    "\n",
    "# included the early stopping which monitors the validation loss\n",
    "early_stop = callbacks.EarlyStopping(monitor='val_loss', patience=7)\n",
    "model.compile(loss='binary_crossentropy', \n",
    "              optimizer='rmsprop',\n",
    "              metrics=['categorical_accuracy'])"
   ]
  },
  {
   "cell_type": "code",
   "execution_count": 5,
   "metadata": {},
   "outputs": [
    {
     "name": "stdout",
     "output_type": "stream",
     "text": [
      "Train on 48000 samples, validate on 12000 samples\n",
      "Epoch 1/40\n",
      " - 6s - loss: 0.1381 - categorical_accuracy: 0.6959 - val_loss: 0.1173 - val_categorical_accuracy: 0.7480\n",
      "Epoch 2/40\n",
      " - 3s - loss: 0.0917 - categorical_accuracy: 0.8063 - val_loss: 0.1006 - val_categorical_accuracy: 0.7949\n",
      "Epoch 3/40\n",
      " - 3s - loss: 0.0810 - categorical_accuracy: 0.8312 - val_loss: 0.0834 - val_categorical_accuracy: 0.8153\n",
      "Epoch 4/40\n",
      " - 3s - loss: 0.0738 - categorical_accuracy: 0.8460 - val_loss: 0.0791 - val_categorical_accuracy: 0.8417\n",
      "Epoch 5/40\n",
      " - 3s - loss: 0.0693 - categorical_accuracy: 0.8566 - val_loss: 0.0684 - val_categorical_accuracy: 0.8583\n",
      "Epoch 6/40\n",
      " - 3s - loss: 0.0663 - categorical_accuracy: 0.8617 - val_loss: 0.0633 - val_categorical_accuracy: 0.8716\n",
      "Epoch 7/40\n",
      " - 3s - loss: 0.0629 - categorical_accuracy: 0.8709 - val_loss: 0.0627 - val_categorical_accuracy: 0.8666\n",
      "Epoch 8/40\n",
      " - 3s - loss: 0.0606 - categorical_accuracy: 0.8746 - val_loss: 0.0646 - val_categorical_accuracy: 0.8680\n",
      "Epoch 9/40\n",
      " - 3s - loss: 0.0586 - categorical_accuracy: 0.8777 - val_loss: 0.0624 - val_categorical_accuracy: 0.8732\n",
      "Epoch 10/40\n",
      " - 3s - loss: 0.0586 - categorical_accuracy: 0.8795 - val_loss: 0.0658 - val_categorical_accuracy: 0.8688\n",
      "Epoch 11/40\n",
      " - 3s - loss: 0.0559 - categorical_accuracy: 0.8830 - val_loss: 0.0678 - val_categorical_accuracy: 0.8673\n",
      "Epoch 12/40\n",
      " - 3s - loss: 0.0548 - categorical_accuracy: 0.8874 - val_loss: 0.0629 - val_categorical_accuracy: 0.8688\n",
      "Epoch 13/40\n",
      " - 3s - loss: 0.0534 - categorical_accuracy: 0.8888 - val_loss: 0.0641 - val_categorical_accuracy: 0.8834\n",
      "Epoch 14/40\n",
      " - 3s - loss: 0.0523 - categorical_accuracy: 0.8907 - val_loss: 0.0605 - val_categorical_accuracy: 0.8773\n",
      "Epoch 15/40\n",
      " - 3s - loss: 0.0509 - categorical_accuracy: 0.8940 - val_loss: 0.0586 - val_categorical_accuracy: 0.8840\n",
      "Epoch 16/40\n",
      " - 3s - loss: 0.0498 - categorical_accuracy: 0.8972 - val_loss: 0.0559 - val_categorical_accuracy: 0.8875\n",
      "Epoch 17/40\n",
      " - 3s - loss: 0.0487 - categorical_accuracy: 0.8984 - val_loss: 0.0588 - val_categorical_accuracy: 0.8889\n",
      "Epoch 18/40\n",
      " - 3s - loss: 0.0489 - categorical_accuracy: 0.9000 - val_loss: 0.0573 - val_categorical_accuracy: 0.8883\n",
      "Epoch 19/40\n",
      " - 3s - loss: 0.0479 - categorical_accuracy: 0.9010 - val_loss: 0.0567 - val_categorical_accuracy: 0.8887\n",
      "Epoch 20/40\n",
      " - 3s - loss: 0.0469 - categorical_accuracy: 0.9015 - val_loss: 0.0596 - val_categorical_accuracy: 0.8895\n",
      "Epoch 21/40\n",
      " - 3s - loss: 0.0465 - categorical_accuracy: 0.9052 - val_loss: 0.0565 - val_categorical_accuracy: 0.8930\n",
      "Epoch 22/40\n",
      " - 3s - loss: 0.0453 - categorical_accuracy: 0.9066 - val_loss: 0.0607 - val_categorical_accuracy: 0.8822\n",
      "Epoch 23/40\n",
      " - 3s - loss: 0.0451 - categorical_accuracy: 0.9071 - val_loss: 0.0558 - val_categorical_accuracy: 0.8921\n",
      "Epoch 24/40\n",
      " - 3s - loss: 0.0441 - categorical_accuracy: 0.9089 - val_loss: 0.0610 - val_categorical_accuracy: 0.8867\n",
      "Epoch 25/40\n",
      " - 3s - loss: 0.0436 - categorical_accuracy: 0.9105 - val_loss: 0.0625 - val_categorical_accuracy: 0.8880\n",
      "Epoch 26/40\n",
      " - 3s - loss: 0.0434 - categorical_accuracy: 0.9098 - val_loss: 0.0569 - val_categorical_accuracy: 0.8938\n",
      "Epoch 27/40\n",
      " - 3s - loss: 0.0426 - categorical_accuracy: 0.9134 - val_loss: 0.0575 - val_categorical_accuracy: 0.8948\n",
      "Epoch 28/40\n",
      " - 3s - loss: 0.0425 - categorical_accuracy: 0.9135 - val_loss: 0.0568 - val_categorical_accuracy: 0.8947\n",
      "Epoch 29/40\n",
      " - 3s - loss: 0.0414 - categorical_accuracy: 0.9148 - val_loss: 0.0584 - val_categorical_accuracy: 0.8958\n",
      "Epoch 30/40\n",
      " - 3s - loss: 0.0413 - categorical_accuracy: 0.9167 - val_loss: 0.0556 - val_categorical_accuracy: 0.8950\n",
      "Epoch 31/40\n",
      " - 3s - loss: 0.0405 - categorical_accuracy: 0.9169 - val_loss: 0.0582 - val_categorical_accuracy: 0.8916\n",
      "Epoch 32/40\n",
      " - 3s - loss: 0.0403 - categorical_accuracy: 0.9169 - val_loss: 0.0565 - val_categorical_accuracy: 0.8967\n",
      "Epoch 33/40\n",
      " - 3s - loss: 0.0395 - categorical_accuracy: 0.9194 - val_loss: 0.0584 - val_categorical_accuracy: 0.8976\n",
      "Epoch 34/40\n",
      " - 3s - loss: 0.0394 - categorical_accuracy: 0.9188 - val_loss: 0.0580 - val_categorical_accuracy: 0.8954\n",
      "Epoch 35/40\n",
      " - 3s - loss: 0.0391 - categorical_accuracy: 0.9193 - val_loss: 0.0606 - val_categorical_accuracy: 0.8919\n",
      "Epoch 36/40\n",
      " - 3s - loss: 0.0382 - categorical_accuracy: 0.9216 - val_loss: 0.0603 - val_categorical_accuracy: 0.8908\n",
      "Epoch 37/40\n",
      " - 3s - loss: 0.0379 - categorical_accuracy: 0.9215 - val_loss: 0.0655 - val_categorical_accuracy: 0.8885\n"
     ]
    }
   ],
   "source": [
    "history1 = model.fit(train_images, train_labels,\n",
    "          batch_size=512,\n",
    "          epochs=40,\n",
    "          validation_split=0.2,\n",
    "          callbacks=[early_stop], \n",
    "          verbose=2)"
   ]
  },
  {
   "cell_type": "code",
   "execution_count": 6,
   "metadata": {},
   "outputs": [
    {
     "name": "stdout",
     "output_type": "stream",
     "text": [
      "10000/10000 [==============================] - 1s 75us/step\n",
      "[0.06944267225861549, 0.8833]\n"
     ]
    }
   ],
   "source": [
    "results = model.evaluate(test_images, test_labels)\n",
    "\n",
    "print(results)"
   ]
  },
  {
   "cell_type": "code",
   "execution_count": 7,
   "metadata": {},
   "outputs": [
    {
     "name": "stdout",
     "output_type": "stream",
     "text": [
      "dict_keys(['val_loss', 'val_categorical_accuracy', 'loss', 'categorical_accuracy'])\n"
     ]
    }
   ],
   "source": [
    "history_dict1 = history1.history\n",
    "print(history_dict1.keys())"
   ]
  },
  {
   "cell_type": "code",
   "execution_count": 8,
   "metadata": {},
   "outputs": [],
   "source": [
    "acc = history_dict1['categorical_accuracy']\n",
    "val_acc = history_dict1['val_categorical_accuracy']\n",
    "loss = history_dict1['loss']\n",
    "val_loss = history_dict1['val_loss']\n",
    "\n",
    "epochs = range(1, len(acc) + 1)"
   ]
  },
  {
   "cell_type": "code",
   "execution_count": 9,
   "metadata": {},
   "outputs": [
    {
     "data": {
      "image/png": "[encoded data removed]",
      "text/plain": [
       "<Figure size 1440x720 with 2 Axes>"
      ]
     },
     "metadata": {
      "needs_background": "light"
     },
     "output_type": "display_data"
    }
   ],
   "source": [
    "#For plot\n",
    "# Plot of the validation and training loss\n",
    "f, (ax1, ax2)=plt.subplots(1,2,figsize=(20,10))\n",
    "# \"bo\" is for \"blue dot\"\n",
    "ax1.plot(epochs, loss, 'bo', label='Training loss')\n",
    "# b is for \"solid blue line\"\n",
    "ax1.plot(epochs, val_loss, 'b', label='Validation loss')\n",
    "ax1.set_title('Training and validation loss')\n",
    "ax1.set_xlabel('Epochs')\n",
    "ax1.set_ylabel('Loss')\n",
    "ax1.legend()\n",
    "\n",
    "ax2.plot(epochs, acc, 'bo', label='Training acc')\n",
    "# b is for \"solid blue line\"\n",
    "ax2.plot(epochs, val_acc, 'b', label='Validation acc')\n",
    "ax2.set_title('Training and validation acc')\n",
    "ax2.set_xlabel('Epochs')\n",
    "ax2.set_ylabel('Acc')\n",
    "ax2.legend()\n",
    "plt.show()"
   ]
  },
  {
   "cell_type": "markdown",
   "metadata": {},
   "source": [
    "## Classifying newswires\n",
    "\n",
    "---\n",
    "\n",
    "Build a network to classify Reuters newswires into 46 different mutually-exclusive topics."
   ]
  },
  {
   "cell_type": "markdown",
   "metadata": {},
   "source": [
    "### Load and review the data"
   ]
  },
  {
   "cell_type": "code",
   "execution_count": 10,
   "metadata": {},
   "outputs": [
    {
     "name": "stdout",
     "output_type": "stream",
     "text": [
      "(8982,)\n",
      "(8982,)\n",
      "[1, 2, 2, 8, 43, 10, 447, 5, 25, 207, 270, 5, 3095, 111, 16, 369, 186, 90, 67, 7, 89, 5, 19, 102, 6, 19, 124, 15, 90, 67, 84, 22, 482, 26, 7, 48, 4, 49, 8, 864, 39, 209, 154, 6, 151, 6, 83, 11, 15, 22, 155, 11, 15, 7, 48, 9, 4579, 1005, 504, 6, 258, 6, 272, 11, 15, 22, 134, 44, 11, 15, 16, 8, 197, 1245, 90, 67, 52, 29, 209, 30, 32, 132, 6, 109, 15, 17, 12]\n",
      "3\n",
      "{0, 1, 2, 3, 4, 5, 6, 7, 8, 9, 10, 11, 12, 13, 14, 15, 16, 17, 18, 19, 20, 21, 22, 23, 24, 25, 26, 27, 28, 29, 30, 31, 32, 33, 34, 35, 36, 37, 38, 39, 40, 41, 42, 43, 44, 45}\n"
     ]
    }
   ],
   "source": [
    "(reuters_train_data, reuters_train_labels),(reuters_test_data, reuters_test_labels) = reuters.load_data(num_words=10000)\n",
    "\n",
    "print(reuters_train_data.shape)\n",
    "print(reuters_train_labels.shape)\n",
    "print(reuters_train_data[0])\n",
    "print(reuters_train_labels[0])\n",
    "\n",
    "print(set(reuters_train_labels))"
   ]
  },
  {
   "cell_type": "markdown",
   "metadata": {},
   "source": [
    "Load the word index to decode the train data."
   ]
  },
  {
   "cell_type": "code",
   "execution_count": 11,
   "metadata": {},
   "outputs": [
    {
     "name": "stdout",
     "output_type": "stream",
     "text": [
      "<START> <UNKNOWN> <UNKNOWN> said as a result of its december acquisition of space co it expects earnings per share in 1987 of 1 15 to 1 30 dlrs per share up from 70 cts in 1986 the company said pretax net should rise to nine to 10 mln dlrs from six mln dlrs in 1986 and rental operation revenues to 19 to 22 mln dlrs from 12 5 mln dlrs it said cash flow per share this year should be 2 50 to three dlrs reuter 3\n"
     ]
    }
   ],
   "source": [
    "word_index = reuters.get_word_index()\n",
    "\n",
    "reverse_index = dict([(value+3, key) for (key, value) in word_index.items()])\n",
    "\n",
    "reverse_index[0] = \"<PAD>\"\n",
    "reverse_index[1] = \"<START>\"\n",
    "reverse_index[2] = \"<UNKNOWN>\"  # unknown\n",
    "reverse_index[3] = \"<UNUSED>\"\n",
    "\n",
    "decoded_review = ' '.join([reverse_index.get(i,'?') for i in reuters_train_data[0]])\n",
    "\n",
    "print(decoded_review)"
   ]
  },
  {
   "cell_type": "markdown",
   "metadata": {},
   "source": [
    "#### TO DO: Preprocess the data\n",
    "\n",
    "1. Normalize the input data set\n",
    "2. Perform one hot encoding\n",
    "3. Create a train, test, and validation set"
   ]
  },
  {
   "cell_type": "code",
   "execution_count": 25,
   "metadata": {},
   "outputs": [
    {
     "name": "stdout",
     "output_type": "stream",
     "text": [
      "(8982, 10000)\n",
      "(2246, 10000)\n",
      "(8982, 46)\n",
      "(2246, 46)\n",
      "(3982, 10000)\n",
      "(3982, 46)\n"
     ]
    }
   ],
   "source": [
    "num_classes_model2 = max(reuters_train_labels)+1\n",
    "tokenizer = Tokenizer(10000)\n",
    "train_data_token = tokenizer.sequences_to_matrix(reuters_train_data, mode='binary')\n",
    "test_data_token = tokenizer.sequences_to_matrix(reuters_test_data, mode='binary')\n",
    "print(train_data_token.shape)\n",
    "print(test_data_token.shape)\n",
    "\n",
    "# One-hot encoding the output\n",
    "one_hot_train_labels = to_categorical(reuters_train_labels,num_classes_model2)\n",
    "one_hot_test_labels = to_categorical(reuters_test_labels,num_classes_model2)\n",
    "print(one_hot_train_labels.shape)\n",
    "print(one_hot_test_labels.shape)\n",
    "\n",
    "# Creating a validation set with the first 10000 reviews\n",
    "validation_data = train_data_token[:5000]\n",
    "validation_labels = one_hot_train_labels[:5000]\n",
    "\n",
    "# Creating the input set\n",
    "x_data = train_data_token[5000:]\n",
    "y_data = one_hot_train_labels[5000:]\n",
    "print(x_data.shape)\n",
    "print(y_data.shape)"
   ]
  },
  {
   "cell_type": "markdown",
   "metadata": {},
   "source": [
    "#### TO DO: Define and train a network, then plot the accuracy of the training, validation, and testing\n",
    "\n",
    "1. Use a validation set\n",
    "2. Propose and train a network\n",
    "3. Print the history of the training\n",
    "4. Evaluate with a test set"
   ]
  },
  {
   "cell_type": "code",
   "execution_count": 45,
   "metadata": {
    "scrolled": true
   },
   "outputs": [
    {
     "name": "stdout",
     "output_type": "stream",
     "text": [
      "_________________________________________________________________\n",
      "Layer (type)                 Output Shape              Param #   \n",
      "=================================================================\n",
      "dense_31 (Dense)             (None, 512)               5120512   \n",
      "_________________________________________________________________\n",
      "dropout_16 (Dropout)         (None, 512)               0         \n",
      "_________________________________________________________________\n",
      "dense_32 (Dense)             (None, 64)                32832     \n",
      "_________________________________________________________________\n",
      "dropout_17 (Dropout)         (None, 64)                0         \n",
      "_________________________________________________________________\n",
      "dense_33 (Dense)             (None, 46)                2990      \n",
      "=================================================================\n",
      "Total params: 5,156,334\n",
      "Trainable params: 5,156,334\n",
      "Non-trainable params: 0\n",
      "_________________________________________________________________\n"
     ]
    }
   ],
   "source": [
    "model1 = models.Sequential()\n",
    "model1.add(layers.Dense(512, activation='relu', input_dim=10000))\n",
    "model1.add(layers.Dropout(0.5))\n",
    "model1.add(layers.Dense(64, activation='relu'))\n",
    "model1.add(layers.Dropout(0.5))\n",
    "model1.add(layers.Dense(num_classes_model2, activation='softmax'))\n",
    "\n",
    "model1.summary()\n",
    "\n",
    "# included the early stopping which monitors the validation loss\n",
    "early_stop = callbacks.EarlyStopping(monitor='val_loss', patience=10)\n",
    "model1.compile(loss='categorical_crossentropy', \n",
    "              optimizer='adamax',\n",
    "              metrics=['accuracy'])"
   ]
  },
  {
   "cell_type": "code",
   "execution_count": 46,
   "metadata": {
    "scrolled": true
   },
   "outputs": [
    {
     "name": "stdout",
     "output_type": "stream",
     "text": [
      "Train on 8083 samples, validate on 899 samples\n",
      "Epoch 1/4\n",
      " - 18s - loss: 1.8606 - acc: 0.5818 - val_loss: 1.3555 - val_acc: 0.7008\n",
      "Epoch 2/4\n",
      " - 15s - loss: 1.2479 - acc: 0.7111 - val_loss: 1.1745 - val_acc: 0.7375\n",
      "Epoch 3/4\n",
      " - 15s - loss: 1.0333 - acc: 0.7611 - val_loss: 1.0992 - val_acc: 0.7586\n",
      "Epoch 4/4\n",
      " - 15s - loss: 0.8774 - acc: 0.7956 - val_loss: 1.0641 - val_acc: 0.7686\n"
     ]
    }
   ],
   "source": [
    "history = model1.fit(train_data_token, one_hot_train_labels,\n",
    "          batch_size=32,\n",
    "          epochs=4,\n",
    "          validation_split=0.1,\n",
    "          callbacks=[early_stop], \n",
    "          verbose=2)"
   ]
  },
  {
   "cell_type": "code",
   "execution_count": 47,
   "metadata": {},
   "outputs": [
    {
     "name": "stdout",
     "output_type": "stream",
     "text": [
      "2246/2246 [==============================] - 1s 350us/step\n",
      "[1.0132096696940258, 0.7693677649154052]\n"
     ]
    }
   ],
   "source": [
    "results = model1.evaluate(test_data_token, one_hot_test_labels)\n",
    "\n",
    "print(results)"
   ]
  },
  {
   "cell_type": "code",
   "execution_count": 42,
   "metadata": {},
   "outputs": [
    {
     "name": "stdout",
     "output_type": "stream",
     "text": [
      "dict_keys(['val_loss', 'val_acc', 'loss', 'acc'])\n"
     ]
    }
   ],
   "source": [
    "history_dict = history.history\n",
    "print(history_dict.keys())"
   ]
  },
  {
   "cell_type": "code",
   "execution_count": 43,
   "metadata": {},
   "outputs": [],
   "source": [
    "acc = history_dict['acc']\n",
    "val_acc = history_dict['val_acc']\n",
    "loss = history_dict['loss']\n",
    "val_loss = history_dict['val_loss']\n",
    "\n",
    "epochs = range(1, len(acc) + 1)"
   ]
  },
  {
   "cell_type": "code",
   "execution_count": 44,
   "metadata": {},
   "outputs": [
    {
     "data": {
      "image/png": "[encoded data removed]",
      "text/plain": [
       "<Figure size 1440x720 with 2 Axes>"
      ]
     },
     "metadata": {
      "needs_background": "light"
     },
     "output_type": "display_data"
    }
   ],
   "source": [
    "#For plot\n",
    "# Plot of the validation and training loss\n",
    "f, (ax1, ax2)=plt.subplots(1,2,figsize=(20,10))\n",
    "# \"bo\" is for \"blue dot\"\n",
    "ax1.plot(epochs, loss, 'bo', label='Training loss')\n",
    "# b is for \"solid blue line\"\n",
    "ax1.plot(epochs, val_loss, 'b', label='Validation loss')\n",
    "ax1.set_title('Training and validation loss')\n",
    "ax1.set_xlabel('Epochs')\n",
    "ax1.set_ylabel('Loss')\n",
    "ax1.legend()\n",
    "\n",
    "ax2.plot(epochs, acc, 'bo', label='Training acc')\n",
    "# b is for \"solid blue line\"\n",
    "ax2.plot(epochs, val_acc, 'b', label='Validation acc')\n",
    "ax2.set_title('Training and validation acc')\n",
    "ax2.set_xlabel('Epochs')\n",
    "ax2.set_ylabel('Acc')\n",
    "ax2.legend()\n",
    "plt.show()"
   ]
  },
  {
   "cell_type": "markdown",
   "metadata": {},
   "source": [
    "## Predicting Student Admissions\n",
    "\n",
    "---\n",
    "\n",
    "Predict student admissions based on three pieces of data:\n",
    "\n",
    "- GRE Scores\n",
    "- GPA Scores\n",
    "- Class rank"
   ]
  },
  {
   "cell_type": "markdown",
   "metadata": {},
   "source": [
    "### Load and visualize the data"
   ]
  },
  {
   "cell_type": "code",
   "execution_count": 224,
   "metadata": {},
   "outputs": [
    {
     "name": "stdout",
     "output_type": "stream",
     "text": [
      "     admit    gre   gpa  rank\n",
      "0        0  380.0  3.61   3.0\n",
      "1        1  660.0  3.67   3.0\n",
      "2        1  800.0  4.00   1.0\n",
      "3        1  640.0  3.19   4.0\n",
      "4        0  520.0  2.93   4.0\n",
      "5        1  760.0  3.00   2.0\n",
      "6        1  560.0  2.98   1.0\n",
      "7        0  400.0  3.08   2.0\n",
      "8        1  540.0  3.39   3.0\n",
      "9        0  700.0  3.92   2.0\n",
      "10       0  800.0  4.00   4.0\n",
      "11       0  440.0  3.22   1.0\n",
      "12       1  760.0  4.00   1.0\n",
      "13       0  700.0  3.08   2.0\n",
      "14       1  700.0  4.00   1.0\n",
      "15       0  480.0  3.44   3.0\n",
      "16       0  780.0  3.87   4.0\n",
      "17       0  360.0  2.56   3.0\n",
      "18       0  800.0  3.75   2.0\n",
      "19       1  540.0  3.81   1.0\n",
      "20       0  500.0  3.17   3.0\n",
      "21       1  660.0  3.63   2.0\n",
      "22       0  600.0  2.82   4.0\n",
      "23       0  680.0  3.19   4.0\n",
      "24       1  760.0  3.35   2.0\n",
      "25       1  800.0  3.66   1.0\n",
      "26       1  620.0  3.61   1.0\n",
      "27       1  520.0  3.74   4.0\n",
      "28       1  780.0  3.22   2.0\n",
      "29       0  520.0  3.29   1.0\n",
      "..     ...    ...   ...   ...\n",
      "370      1  540.0  3.77   2.0\n",
      "371      1  680.0  3.76   3.0\n",
      "372      1  680.0  2.42   1.0\n",
      "373      1  620.0  3.37   1.0\n",
      "374      0  560.0  3.78   2.0\n",
      "375      0  560.0  3.49   4.0\n",
      "376      0  620.0  3.63   2.0\n",
      "377      1  800.0  4.00   2.0\n",
      "378      0  640.0  3.12   3.0\n",
      "379      0  540.0  2.70   2.0\n",
      "380      0  700.0  3.65   2.0\n",
      "381      1  540.0  3.49   2.0\n",
      "382      0  540.0  3.51   2.0\n",
      "383      0  660.0  4.00   1.0\n",
      "384      1  480.0  2.62   2.0\n",
      "385      0  420.0  3.02   1.0\n",
      "386      1  740.0  3.86   2.0\n",
      "387      0  580.0  3.36   2.0\n",
      "388      0  640.0  3.17   2.0\n",
      "389      0  640.0  3.51   2.0\n",
      "390      1  800.0  3.05   2.0\n",
      "391      1  660.0  3.88   2.0\n",
      "392      1  600.0  3.38   3.0\n",
      "393      1  620.0  3.75   2.0\n",
      "394      1  460.0  3.99   3.0\n",
      "395      0  620.0  4.00   2.0\n",
      "396      0  560.0  3.04   3.0\n",
      "397      0  460.0  2.63   2.0\n",
      "398      0  700.0  3.65   2.0\n",
      "399      0  600.0  3.89   3.0\n",
      "\n",
      "[400 rows x 4 columns]\n"
     ]
    }
   ],
   "source": [
    "student_data = pd.read_csv(\"data/student_data.csv\")\n",
    "print(student_data)"
   ]
  },
  {
   "cell_type": "markdown",
   "metadata": {},
   "source": [
    "Plot of the GRE and the GPA from the data."
   ]
  },
  {
   "cell_type": "code",
   "execution_count": 225,
   "metadata": {},
   "outputs": [
    {
     "data": {
      "image/png": "[encoded data removed]",
      "text/plain": [
       "<Figure size 432x288 with 1 Axes>"
      ]
     },
     "metadata": {
      "needs_background": "light"
     },
     "output_type": "display_data"
    }
   ],
   "source": [
    "X = np.array(student_data[[\"gre\",\"gpa\"]])\n",
    "y = np.array(student_data[\"admit\"])\n",
    "admitted = X[np.argwhere(y==1)]\n",
    "rejected = X[np.argwhere(y==0)]\n",
    "plt.scatter([s[0][0] for s in rejected], [s[0][1] for s in rejected], s = 25, color = 'red', edgecolor = 'k',label='Rejected')\n",
    "plt.scatter([s[0][0] for s in admitted], [s[0][1] for s in admitted], s = 25, color = 'cyan', edgecolor = 'k', label='Admitted')\n",
    "plt.xlabel('Test (GRE)')\n",
    "plt.ylabel('Grades (GPA)')\n",
    "plt.legend()\n",
    "plt.show()"
   ]
  },
  {
   "cell_type": "markdown",
   "metadata": {},
   "source": [
    "Plot of the data by class rank."
   ]
  },
  {
   "cell_type": "code",
   "execution_count": 226,
   "metadata": {},
   "outputs": [
    {
     "data": {
      "image/png": "[encoded data removed]",
      "text/plain": [
       "<Figure size 1440x720 with 4 Axes>"
      ]
     },
     "metadata": {
      "needs_background": "light"
     },
     "output_type": "display_data"
    }
   ],
   "source": [
    "f, plots = plt.subplots(2, 2, figsize=(20,10))\n",
    "plots = [plot for sublist in plots for plot in sublist]\n",
    "\n",
    "for idx, plot in enumerate(plots):\n",
    "    data_rank = student_data[student_data[\"rank\"]==idx+1]\n",
    "    plot.set_title(\"Rank \" + str(idx+1))\n",
    "    X = np.array(data_rank[[\"gre\",\"gpa\"]])\n",
    "    y = np.array(data_rank[\"admit\"])\n",
    "    admitted = X[np.argwhere(y==1)]\n",
    "    rejected = X[np.argwhere(y==0)]\n",
    "    plot.scatter([s[0][0] for s in rejected], [s[0][1] for s in rejected], s = 25, color = 'red', edgecolor = 'k')\n",
    "    plot.scatter([s[0][0] for s in admitted], [s[0][1] for s in admitted], s = 25, color = 'cyan', edgecolor = 'k')\n",
    "    plot.set_xlabel('Test (GRE)')\n",
    "    plot.set_ylabel('Grades (GPA)')\n",
    "    "
   ]
  },
  {
   "cell_type": "markdown",
   "metadata": {},
   "source": [
    "#### TO DO: Preprocess the data\n",
    "\n",
    "1. Normalize the input data set\n",
    "2. Perform one hot encoding\n",
    "3. Create a train, test, and validation set"
   ]
  },
  {
   "cell_type": "code",
   "execution_count": 270,
   "metadata": {},
   "outputs": [
    {
     "name": "stdout",
     "output_type": "stream",
     "text": [
      "(350, 7)\n",
      "(350, 2)\n",
      "(50, 7)\n",
      "(50, 2)\n"
     ]
    }
   ],
   "source": [
    "maxGRE = max(np.array(student_data[\"gre\"]))\n",
    "maxGPA = max(np.array(student_data[\"gpa\"]))\n",
    "num_class_3 = 2\n",
    "student_data = student_data.fillna(0)\n",
    "preprocessed_data = pd.get_dummies(student_data, columns=['rank'])\n",
    "preprocessed_data[\"gre\"] = preprocessed_data[\"gre\"] / maxGRE\n",
    "preprocessed_data[\"gpa\"] = preprocessed_data[\"gpa\"] / maxGPA\n",
    "\n",
    "normalized_data = np.array(preprocessed_data)[:,1:].astype('float32')\n",
    "labels = np.array(preprocessed_data)[:,:1]\n",
    "\n",
    "train_data = normalized_data[:350]\n",
    "train_labels = labels[:350]\n",
    "test_data = normalized_data[350:]\n",
    "test_labels = labels[350:]\n",
    "\n",
    "train_labels = to_categorical(train_labels)\n",
    "\n",
    "test_labels = to_categorical(test_labels)\n",
    "print(train_data.shape)\n",
    "print(train_labels.shape)\n",
    "print(test_data.shape)\n",
    "print(test_labels.shape)"
   ]
  },
  {
   "cell_type": "markdown",
   "metadata": {},
   "source": [
    "#### TO DO: Define and train a network, then plot the accuracy of the training, validation, and testing\n",
    "\n",
    "1. Use a validation set\n",
    "2. Propose and train a network\n",
    "3. Print the history of the training\n",
    "4. Evaluate with a test set"
   ]
  },
  {
   "cell_type": "code",
   "execution_count": 277,
   "metadata": {},
   "outputs": [
    {
     "name": "stdout",
     "output_type": "stream",
     "text": [
      "_________________________________________________________________\n",
      "Layer (type)                 Output Shape              Param #   \n",
      "=================================================================\n",
      "dense_223 (Dense)            (None, 32)                256       \n",
      "_________________________________________________________________\n",
      "dropout_117 (Dropout)        (None, 32)                0         \n",
      "_________________________________________________________________\n",
      "dense_224 (Dense)            (None, 16)                528       \n",
      "_________________________________________________________________\n",
      "dropout_118 (Dropout)        (None, 16)                0         \n",
      "_________________________________________________________________\n",
      "dense_225 (Dense)            (None, 2)                 34        \n",
      "=================================================================\n",
      "Total params: 818\n",
      "Trainable params: 818\n",
      "Non-trainable params: 0\n",
      "_________________________________________________________________\n"
     ]
    }
   ],
   "source": [
    "model2 = models.Sequential()\n",
    "model2.add(layers.Dense(32, activation='relu', input_shape=(train_data.shape[1],)))\n",
    "model2.add(layers.Dropout(0.2))\n",
    "model2.add(layers.Dense(16, activation='relu'))\n",
    "model2.add(layers.Dropout(0.1))\n",
    "model2.add(layers.Dense(num_class_3, activation='softmax'))\n",
    "\n",
    "model2.summary()\n",
    "\n",
    "# included the early stopping which monitors the validation loss\n",
    "early_stop = callbacks.EarlyStopping(monitor='val_loss', patience=10)\n",
    "model2.compile(loss='categorical_crossentropy', \n",
    "              optimizer='adamax',\n",
    "              metrics=['accuracy'])"
   ]
  },
  {
   "cell_type": "code",
   "execution_count": 278,
   "metadata": {},
   "outputs": [
    {
     "name": "stdout",
     "output_type": "stream",
     "text": [
      "Train on 315 samples, validate on 35 samples\n",
      "Epoch 1/100\n",
      " - 2s - loss: 0.7280 - acc: 0.4032 - val_loss: 0.7108 - val_acc: 0.4571\n",
      "Epoch 2/100\n",
      " - 0s - loss: 0.7240 - acc: 0.4317 - val_loss: 0.7011 - val_acc: 0.5143\n",
      "Epoch 3/100\n",
      " - 0s - loss: 0.7122 - acc: 0.4159 - val_loss: 0.6918 - val_acc: 0.5143\n",
      "Epoch 4/100\n",
      " - 0s - loss: 0.6997 - acc: 0.5397 - val_loss: 0.6846 - val_acc: 0.6571\n",
      "Epoch 5/100\n",
      " - 0s - loss: 0.6955 - acc: 0.5175 - val_loss: 0.6780 - val_acc: 0.6857\n",
      "Epoch 6/100\n",
      " - 0s - loss: 0.6867 - acc: 0.5587 - val_loss: 0.6722 - val_acc: 0.7143\n",
      "Epoch 7/100\n",
      " - 0s - loss: 0.6861 - acc: 0.5651 - val_loss: 0.6668 - val_acc: 0.6571\n",
      "Epoch 8/100\n",
      " - 0s - loss: 0.6768 - acc: 0.6413 - val_loss: 0.6624 - val_acc: 0.6571\n",
      "Epoch 9/100\n",
      " - 0s - loss: 0.6794 - acc: 0.5873 - val_loss: 0.6585 - val_acc: 0.6571\n",
      "Epoch 10/100\n",
      " - 0s - loss: 0.6693 - acc: 0.6667 - val_loss: 0.6548 - val_acc: 0.6571\n",
      "Epoch 11/100\n",
      " - 0s - loss: 0.6664 - acc: 0.6444 - val_loss: 0.6506 - val_acc: 0.6571\n",
      "Epoch 12/100\n",
      " - 0s - loss: 0.6595 - acc: 0.6540 - val_loss: 0.6464 - val_acc: 0.6571\n",
      "Epoch 13/100\n",
      " - 0s - loss: 0.6535 - acc: 0.6698 - val_loss: 0.6425 - val_acc: 0.6571\n",
      "Epoch 14/100\n",
      " - 0s - loss: 0.6510 - acc: 0.6508 - val_loss: 0.6387 - val_acc: 0.6571\n",
      "Epoch 15/100\n",
      " - 0s - loss: 0.6564 - acc: 0.6444 - val_loss: 0.6352 - val_acc: 0.6571\n",
      "Epoch 16/100\n",
      " - 0s - loss: 0.6495 - acc: 0.6857 - val_loss: 0.6317 - val_acc: 0.7429\n",
      "Epoch 17/100\n",
      " - 0s - loss: 0.6443 - acc: 0.7111 - val_loss: 0.6284 - val_acc: 0.7429\n",
      "Epoch 18/100\n",
      " - 0s - loss: 0.6361 - acc: 0.6952 - val_loss: 0.6251 - val_acc: 0.7429\n",
      "Epoch 19/100\n",
      " - 0s - loss: 0.6361 - acc: 0.6762 - val_loss: 0.6219 - val_acc: 0.7429\n",
      "Epoch 20/100\n",
      " - 0s - loss: 0.6378 - acc: 0.6603 - val_loss: 0.6188 - val_acc: 0.7429\n",
      "Epoch 21/100\n",
      " - 0s - loss: 0.6285 - acc: 0.6857 - val_loss: 0.6158 - val_acc: 0.7429\n",
      "Epoch 22/100\n",
      " - 0s - loss: 0.6267 - acc: 0.6889 - val_loss: 0.6130 - val_acc: 0.7429\n",
      "Epoch 23/100\n",
      " - 0s - loss: 0.6204 - acc: 0.6730 - val_loss: 0.6104 - val_acc: 0.7429\n",
      "Epoch 24/100\n",
      " - 0s - loss: 0.6252 - acc: 0.7111 - val_loss: 0.6080 - val_acc: 0.7429\n",
      "Epoch 25/100\n",
      " - 0s - loss: 0.6226 - acc: 0.7016 - val_loss: 0.6056 - val_acc: 0.7429\n",
      "Epoch 26/100\n",
      " - 0s - loss: 0.6156 - acc: 0.6889 - val_loss: 0.6032 - val_acc: 0.7429\n",
      "Epoch 27/100\n",
      " - 0s - loss: 0.6116 - acc: 0.6921 - val_loss: 0.6010 - val_acc: 0.7429\n",
      "Epoch 28/100\n",
      " - 0s - loss: 0.6201 - acc: 0.6921 - val_loss: 0.5990 - val_acc: 0.7429\n",
      "Epoch 29/100\n",
      " - 0s - loss: 0.6240 - acc: 0.6794 - val_loss: 0.5972 - val_acc: 0.7429\n",
      "Epoch 30/100\n",
      " - 0s - loss: 0.6140 - acc: 0.6921 - val_loss: 0.5955 - val_acc: 0.7429\n",
      "Epoch 31/100\n",
      " - 0s - loss: 0.6151 - acc: 0.6984 - val_loss: 0.5941 - val_acc: 0.7429\n",
      "Epoch 32/100\n",
      " - 0s - loss: 0.6146 - acc: 0.6857 - val_loss: 0.5927 - val_acc: 0.7429\n",
      "Epoch 33/100\n",
      " - 0s - loss: 0.6064 - acc: 0.6889 - val_loss: 0.5916 - val_acc: 0.7429\n",
      "Epoch 34/100\n",
      " - 0s - loss: 0.6013 - acc: 0.6952 - val_loss: 0.5906 - val_acc: 0.7429\n",
      "Epoch 35/100\n",
      " - 0s - loss: 0.6146 - acc: 0.6921 - val_loss: 0.5898 - val_acc: 0.7429\n",
      "Epoch 36/100\n",
      " - 0s - loss: 0.6088 - acc: 0.6857 - val_loss: 0.5891 - val_acc: 0.7429\n",
      "Epoch 37/100\n",
      " - 0s - loss: 0.6023 - acc: 0.6984 - val_loss: 0.5886 - val_acc: 0.7429\n",
      "Epoch 38/100\n",
      " - 0s - loss: 0.6026 - acc: 0.6889 - val_loss: 0.5882 - val_acc: 0.7429\n",
      "Epoch 39/100\n",
      " - 0s - loss: 0.6069 - acc: 0.6889 - val_loss: 0.5880 - val_acc: 0.7429\n",
      "Epoch 40/100\n",
      " - 0s - loss: 0.6032 - acc: 0.6889 - val_loss: 0.5879 - val_acc: 0.7429\n",
      "Epoch 41/100\n",
      " - 0s - loss: 0.6065 - acc: 0.6952 - val_loss: 0.5879 - val_acc: 0.7429\n",
      "Epoch 42/100\n",
      " - 0s - loss: 0.6095 - acc: 0.6889 - val_loss: 0.5880 - val_acc: 0.7429\n",
      "Epoch 43/100\n",
      " - 0s - loss: 0.5916 - acc: 0.6921 - val_loss: 0.5881 - val_acc: 0.7429\n",
      "Epoch 44/100\n",
      " - 0s - loss: 0.6019 - acc: 0.6889 - val_loss: 0.5883 - val_acc: 0.7429\n",
      "Epoch 45/100\n",
      " - 0s - loss: 0.5950 - acc: 0.6952 - val_loss: 0.5886 - val_acc: 0.7429\n",
      "Epoch 46/100\n",
      " - 0s - loss: 0.5971 - acc: 0.6921 - val_loss: 0.5889 - val_acc: 0.7429\n",
      "Epoch 47/100\n",
      " - 0s - loss: 0.6020 - acc: 0.6952 - val_loss: 0.5892 - val_acc: 0.7429\n",
      "Epoch 48/100\n",
      " - 0s - loss: 0.5926 - acc: 0.6889 - val_loss: 0.5896 - val_acc: 0.7429\n",
      "Epoch 49/100\n",
      " - 0s - loss: 0.5986 - acc: 0.6857 - val_loss: 0.5901 - val_acc: 0.7429\n",
      "Epoch 50/100\n",
      " - 0s - loss: 0.5951 - acc: 0.6921 - val_loss: 0.5905 - val_acc: 0.7429\n",
      "Epoch 51/100\n",
      " - 0s - loss: 0.6009 - acc: 0.6857 - val_loss: 0.5910 - val_acc: 0.7429\n",
      "Epoch 52/100\n",
      " - 0s - loss: 0.5864 - acc: 0.6921 - val_loss: 0.5915 - val_acc: 0.7429\n",
      "Epoch 53/100\n",
      " - 0s - loss: 0.6002 - acc: 0.7048 - val_loss: 0.5920 - val_acc: 0.7429\n",
      "Epoch 54/100\n",
      " - 0s - loss: 0.6008 - acc: 0.6952 - val_loss: 0.5926 - val_acc: 0.7429\n",
      "Epoch 55/100\n",
      " - 0s - loss: 0.5967 - acc: 0.6921 - val_loss: 0.5932 - val_acc: 0.7429\n",
      "Epoch 56/100\n",
      " - 0s - loss: 0.5987 - acc: 0.6921 - val_loss: 0.5938 - val_acc: 0.7429\n",
      "Epoch 57/100\n",
      " - 0s - loss: 0.5899 - acc: 0.6889 - val_loss: 0.5944 - val_acc: 0.7429\n",
      "Epoch 58/100\n",
      " - 0s - loss: 0.5936 - acc: 0.7048 - val_loss: 0.5950 - val_acc: 0.7429\n",
      "Epoch 59/100\n",
      " - 0s - loss: 0.6039 - acc: 0.6984 - val_loss: 0.5957 - val_acc: 0.7429\n",
      "Epoch 60/100\n",
      " - 0s - loss: 0.5999 - acc: 0.6730 - val_loss: 0.5963 - val_acc: 0.7429\n",
      "Epoch 61/100\n",
      " - 0s - loss: 0.5889 - acc: 0.6984 - val_loss: 0.5970 - val_acc: 0.7429\n",
      "Epoch 62/100\n",
      " - 0s - loss: 0.6017 - acc: 0.7048 - val_loss: 0.5976 - val_acc: 0.7429\n",
      "Epoch 63/100\n",
      " - 0s - loss: 0.5831 - acc: 0.6984 - val_loss: 0.5982 - val_acc: 0.7429\n",
      "Epoch 64/100\n",
      " - 0s - loss: 0.5859 - acc: 0.6952 - val_loss: 0.5988 - val_acc: 0.7429\n",
      "Epoch 65/100\n",
      " - 0s - loss: 0.5942 - acc: 0.7016 - val_loss: 0.5993 - val_acc: 0.7429\n",
      "Epoch 66/100\n",
      " - 0s - loss: 0.5935 - acc: 0.7079 - val_loss: 0.5999 - val_acc: 0.7429\n",
      "Epoch 67/100\n",
      " - 0s - loss: 0.6034 - acc: 0.6825 - val_loss: 0.6005 - val_acc: 0.7429\n",
      "Epoch 68/100\n",
      " - 0s - loss: 0.6064 - acc: 0.6825 - val_loss: 0.6011 - val_acc: 0.7429\n",
      "Epoch 69/100\n",
      " - 0s - loss: 0.5850 - acc: 0.6889 - val_loss: 0.6017 - val_acc: 0.7429\n",
      "Epoch 70/100\n",
      " - 0s - loss: 0.5909 - acc: 0.7048 - val_loss: 0.6024 - val_acc: 0.7429\n",
      "Epoch 71/100\n",
      " - 0s - loss: 0.5814 - acc: 0.7016 - val_loss: 0.6032 - val_acc: 0.7429\n",
      "Epoch 72/100\n",
      " - 0s - loss: 0.5927 - acc: 0.7111 - val_loss: 0.6040 - val_acc: 0.7429\n",
      "Epoch 73/100\n",
      " - 0s - loss: 0.5751 - acc: 0.7048 - val_loss: 0.6047 - val_acc: 0.7429\n",
      "Epoch 74/100\n",
      " - 0s - loss: 0.5940 - acc: 0.7016 - val_loss: 0.6054 - val_acc: 0.7143\n",
      "Epoch 75/100\n",
      " - 0s - loss: 0.5832 - acc: 0.6921 - val_loss: 0.6061 - val_acc: 0.6857\n",
      "Epoch 76/100\n",
      " - 0s - loss: 0.5855 - acc: 0.6921 - val_loss: 0.6068 - val_acc: 0.7143\n",
      "Epoch 77/100\n",
      " - 0s - loss: 0.5922 - acc: 0.6921 - val_loss: 0.6075 - val_acc: 0.6571\n",
      "Epoch 78/100\n",
      " - 0s - loss: 0.5863 - acc: 0.7079 - val_loss: 0.6082 - val_acc: 0.6571\n",
      "Epoch 79/100\n",
      " - 0s - loss: 0.5875 - acc: 0.6889 - val_loss: 0.6088 - val_acc: 0.6571\n",
      "Epoch 80/100\n",
      " - 0s - loss: 0.5880 - acc: 0.6984 - val_loss: 0.6094 - val_acc: 0.6571\n",
      "Epoch 81/100\n",
      " - 0s - loss: 0.5824 - acc: 0.7079 - val_loss: 0.6101 - val_acc: 0.6571\n",
      "Epoch 82/100\n",
      " - 0s - loss: 0.5736 - acc: 0.7111 - val_loss: 0.6107 - val_acc: 0.6571\n",
      "Epoch 83/100\n",
      " - 0s - loss: 0.5846 - acc: 0.7175 - val_loss: 0.6113 - val_acc: 0.6571\n",
      "Epoch 84/100\n",
      " - 0s - loss: 0.5906 - acc: 0.6952 - val_loss: 0.6118 - val_acc: 0.6571\n",
      "Epoch 85/100\n",
      " - 0s - loss: 0.5993 - acc: 0.6984 - val_loss: 0.6123 - val_acc: 0.6571\n",
      "Epoch 86/100\n",
      " - 0s - loss: 0.5833 - acc: 0.7238 - val_loss: 0.6128 - val_acc: 0.6571\n",
      "Epoch 87/100\n",
      " - 0s - loss: 0.5905 - acc: 0.7143 - val_loss: 0.6132 - val_acc: 0.6571\n",
      "Epoch 88/100\n",
      " - 0s - loss: 0.5724 - acc: 0.7238 - val_loss: 0.6137 - val_acc: 0.6571\n",
      "Epoch 89/100\n",
      " - 0s - loss: 0.6003 - acc: 0.7079 - val_loss: 0.6142 - val_acc: 0.6571\n",
      "Epoch 90/100\n",
      " - 0s - loss: 0.5867 - acc: 0.7111 - val_loss: 0.6146 - val_acc: 0.6571\n",
      "Epoch 91/100\n",
      " - 0s - loss: 0.5903 - acc: 0.7048 - val_loss: 0.6151 - val_acc: 0.6571\n",
      "Epoch 92/100\n",
      " - 0s - loss: 0.5797 - acc: 0.7206 - val_loss: 0.6155 - val_acc: 0.6571\n",
      "Epoch 93/100\n",
      " - 0s - loss: 0.5889 - acc: 0.7048 - val_loss: 0.6158 - val_acc: 0.6571\n",
      "Epoch 94/100\n",
      " - 0s - loss: 0.5838 - acc: 0.7016 - val_loss: 0.6162 - val_acc: 0.6571\n",
      "Epoch 95/100\n",
      " - 0s - loss: 0.5832 - acc: 0.7175 - val_loss: 0.6166 - val_acc: 0.6571\n",
      "Epoch 96/100\n",
      " - 0s - loss: 0.5786 - acc: 0.7206 - val_loss: 0.6170 - val_acc: 0.6571\n"
     ]
    },
    {
     "name": "stdout",
     "output_type": "stream",
     "text": [
      "Epoch 97/100\n",
      " - 0s - loss: 0.5878 - acc: 0.7111 - val_loss: 0.6173 - val_acc: 0.6571\n",
      "Epoch 98/100\n",
      " - 0s - loss: 0.5952 - acc: 0.6984 - val_loss: 0.6177 - val_acc: 0.6571\n",
      "Epoch 99/100\n",
      " - 0s - loss: 0.5893 - acc: 0.6952 - val_loss: 0.6179 - val_acc: 0.6571\n",
      "Epoch 100/100\n",
      " - 0s - loss: 0.5922 - acc: 0.7143 - val_loss: 0.6182 - val_acc: 0.6571\n"
     ]
    }
   ],
   "source": [
    "history = model2.fit(train_data, train_labels,\n",
    "          batch_size=316,\n",
    "          epochs=100,\n",
    "          validation_split=0.1,\n",
    "          #callbacks=[early_stop], \n",
    "          verbose=2)"
   ]
  },
  {
   "cell_type": "code",
   "execution_count": 280,
   "metadata": {},
   "outputs": [
    {
     "name": "stdout",
     "output_type": "stream",
     "text": [
      "50/50 [==============================] - 0s 279us/step\n",
      "[0.677863781452179, 0.62]\n"
     ]
    }
   ],
   "source": [
    "results = model2.evaluate(test_data, test_labels)\n",
    "\n",
    "print(results)"
   ]
  }
 ],
 "metadata": {
  "kernelspec": {
   "display_name": "Python 3",
   "language": "python",
   "name": "python3"
  },
  "language_info": {
   "codemirror_mode": {
    "name": "ipython",
    "version": 3
   },
   "file_extension": ".py",
   "mimetype": "text/x-python",
   "name": "python",
   "nbconvert_exporter": "python",
   "pygments_lexer": "ipython3",
   "version": "3.6.8"
  }
 },
 "nbformat": 4,
 "nbformat_minor": 2
}
